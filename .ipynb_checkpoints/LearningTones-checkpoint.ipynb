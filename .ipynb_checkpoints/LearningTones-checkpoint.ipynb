{
 "cells": [
  {
   "cell_type": "markdown",
   "metadata": {},
   "source": [
    "## Imports"
   ]
  },
  {
   "cell_type": "code",
   "execution_count": 85,
   "metadata": {},
   "outputs": [
    {
     "name": "stdout",
     "output_type": "stream",
     "text": [
      "libc++abi.dylib: terminating with uncaught exception of type std::runtime_error: Couldn't close file\n",
      "libc++abi.dylib: terminating with uncaught exception of type std::runtime_error: Couldn't close file\n",
      "libc++abi.dylib: terminating with uncaught exception of type std::runtime_error: Couldn't close file\n",
      "libc++abi.dylib: terminating with uncaught exception of type std::runtime_error: Couldn't close file\n"
     ]
    }
   ],
   "source": [
    "# all the necessary imports to run the file\n",
    "# https://jakevdp.github.io/blog/2017/12/05/installing-python-packages-from-jupyter/\n",
    "import sys\n",
    "\n",
    "# installing packages that may not be installed on user's computer\n",
    "!{sys.executable} -m pip install sounddevice\n",
    "!{sys.executable} -m pip install librosa\n",
    "!{sys.executable} -m pip install tensorflow\n",
    "!{sys.executable} -m pip install keras\n",
    "\n",
    "import os\n",
    "import sounddevice as sd\n",
    "from scipy.io.wavfile import write\n",
    "import librosa\n",
    "from pathlib import Path\n",
    "import tensorflow as tf\n",
    "from tensorflow import keras\n",
    "from sklearn.model_selection import train_test_split\n",
    "from keras.preprocessing.sequence import pad_sequences\n",
    "import time\n",
    "import shutil\n",
    "import numpy as np\n",
    "import matplotlib.pyplot as plt\n",
    "import warnings\n",
    "warnings.filterwarnings('ignore') #don't display warnings about librosa falling back onto another package\n"
   ]
  },
  {
   "cell_type": "markdown",
   "metadata": {},
   "source": [
    "## Initial Data Processing"
   ]
  },
  {
   "cell_type": "markdown",
   "metadata": {},
   "source": [
    "<pr> The section does NOT need to be run when using the program. It was used to initially load in all the audio files, take 20 mfccs, transform the data, and save the data as numpy arrays for future use. <pr>"
   ]
  },
  {
   "cell_type": "code",
   "execution_count": 69,
   "metadata": {},
   "outputs": [],
   "source": [
    "X = list()\n",
    "y = list()\n",
    "max_padding = 0\n",
    "\n",
    "data = Path('.gitignore/tone_perfect_mp3').iterdir()\n",
    "\n",
    "for item in data:\n",
    "    if item.is_file():\n",
    "        filename = item.name.split(\"_\") #\"{}{}_{}V{}_MP3.mp3\".format(mword, tone, gender, personID)\n",
    "        y.append(int(filename[0][-1])) \n",
    "        \n",
    "        #transform all of the data to mfccs (Mel Frequency Cepstral Coefficients)\n",
    "        #https://medium.com/prathena/the-dummys-guide-to-mfcc-aceab2450fd\n",
    "        \n",
    "        audio, sampling_rate = librosa.load(item)\n",
    "        mfcc = librosa.feature.mfcc(y=audio, sr=sampling_rate, n_mfcc=20) \n",
    "        X.append(mfcc)\n",
    "        total_audio_time = len(mfcc[0])\n",
    "        if total_audio_time > max_padding: max_padding = total_audio_time\n",
    "\n",
    "#padding each audio file's mcffs with zero so all audio files are considered the same duration \n",
    "for i in range(len(X)):\n",
    "    X[i] = pad_sequences(X[i], padding='post', maxlen = max_padding)\n",
    "\n",
    "#transforming from (file, coefficients, time) to (file, time, coefficients)\n",
    "X = np.asarray(X, dtype=np.float32)\n",
    "X = np.transpose(X, (0, 2, 1))"
   ]
  },
  {
   "cell_type": "code",
   "execution_count": 83,
   "metadata": {},
   "outputs": [],
   "source": [
    "#save the numpy arrays to significatly cut down on run time \n",
    "np.save('mcffs.npy', X)\n",
    "np.save('labels.npy', y)"
   ]
  },
  {
   "cell_type": "markdown",
   "metadata": {},
   "source": [
    "## Loading in Data"
   ]
  },
  {
   "cell_type": "code",
   "execution_count": 84,
   "metadata": {},
   "outputs": [],
   "source": [
    "X = np.load('mcffs.npy')\n",
    "y = np.load('labels.npy')\n",
    "\n",
    "# Split data into 80% training and 20% testing\n",
    "X_train, X_test, y_train, y_test = train_test_split(X, y, test_size = .2, random_state=42)"
   ]
  },
  {
   "cell_type": "code",
   "execution_count": 77,
   "metadata": {},
   "outputs": [],
   "source": []
  },
  {
   "cell_type": "code",
   "execution_count": null,
   "metadata": {},
   "outputs": [],
   "source": []
  },
  {
   "cell_type": "code",
   "execution_count": 13,
   "metadata": {},
   "outputs": [],
   "source": [
    "# Possibly need to split the data into M vs F users\n",
    "# in this case, we would have to split the data into male or female and\n",
    "# train 2 different models and predict on both those models and find the \n",
    "# the closest one OR have the person\n",
    "#\n",
    "# for sex in [\"MV\", \"FV\"]:\n",
    "#     for label in range(1,5):\n",
    "#         try:\n",
    "#             directory_name = \".gitignore/{}{}\".format(sex,label)\n",
    "#             os.makedirs(directory_name)    \n",
    "#             print(\"Directory \" , directory_name ,  \" Created \")\n",
    "#         except FileExistsError:\n",
    "#             print(\"Directory \" , directory_name ,  \" already exists\") "
   ]
  },
  {
   "cell_type": "code",
   "execution_count": null,
   "metadata": {},
   "outputs": [],
   "source": [
    "# principal component analysis?"
   ]
  },
  {
   "cell_type": "markdown",
   "metadata": {},
   "source": [
    "# User Interface"
   ]
  },
  {
   "cell_type": "markdown",
   "metadata": {},
   "source": [
    "## Create folder to hold user audio\n",
    "<p> Run the following cell to remove previous user audio and make the folder to hold all user input audio. <p>"
   ]
  },
  {
   "cell_type": "code",
   "execution_count": 4,
   "metadata": {},
   "outputs": [
    {
     "name": "stdout",
     "output_type": "stream",
     "text": [
      "Created folder user_audio\n"
     ]
    }
   ],
   "source": [
    "#initializing folder to hold user audio\n",
    "user_audio_directory = (\"user_audio\")\n",
    "try:\n",
    "    shutil.rmtree(user_audio_directory)\n",
    "    os.makedirs(user_audio_directory)\n",
    "    print(\"Removed data and recreated folder\", user_audio_directory)\n",
    "except(FileNotFoundError):\n",
    "    os.makedirs(user_audio_directory)\n",
    "    print(\"Created folder {}\".format(user_audio_directory)) "
   ]
  },
  {
   "cell_type": "markdown",
   "metadata": {},
   "source": [
    "## Record user's voice"
   ]
  },
  {
   "cell_type": "markdown",
   "metadata": {},
   "source": [
    "<pr> Following cell records a user's voice. Users are encouraged to only record monosyllabic words in order to practice tonalities. An unclear recording will result in a low<pr>"
   ]
  },
  {
   "cell_type": "code",
   "execution_count": 5,
   "metadata": {},
   "outputs": [
    {
     "name": "stdout",
     "output_type": "stream",
     "text": [
      "Recording in...\n",
      "3\n",
      "2\n",
      "1\n",
      "RECORDING\n",
      "Finished\n"
     ]
    }
   ],
   "source": [
    "frame_rate = 44100\n",
    "duration = 1.5 #seconds\n",
    "\n",
    "print(\"Recording in...\")\n",
    "pause = 3\n",
    "\n",
    "while pause > 0:\n",
    "    print(\"{}\".format(pause))\n",
    "    pause -= 1\n",
    "    time.sleep(1)\n",
    "print(\"RECORDING\")\n",
    "\n",
    "recording = sd.rec(int(duration * frame_rate), samplerate = frame_rate, channels = 1)\n",
    "recording_num = len(os.listdir('user_audio/')) + 1\n",
    "recording_name = 'user_audio/sample_audio_{}.mp3'.format(recording_num)\n",
    "sd.wait()\n",
    "write(recording_name, frame_rate, recording)\n",
    "\n",
    "print(\"Finished\")"
   ]
  },
  {
   "cell_type": "markdown",
   "metadata": {},
   "source": [
    "## Play back and plot the user recording \n",
    "<pr> User can play back and see a visualization of their latest recording as many times as they like. <pr>"
   ]
  },
  {
   "cell_type": "code",
   "execution_count": 7,
   "metadata": {},
   "outputs": [
    {
     "data": {
      "image/png": "[encoded data removed]",
      "text/plain": [
       "<Figure size 432x288 with 1 Axes>"
      ]
     },
     "metadata": {
      "needs_background": "light"
     },
     "output_type": "display_data"
    }
   ],
   "source": [
    "try: \n",
    "    audio, sampling_rate = librosa.load(recording_name)\n",
    "    \n",
    "    #plot\n",
    "    timeline = np.arange(0, len(audio))/sampling_rate\n",
    "    fig = plt.figure()\n",
    "    plt.plot(timeline, audio)\n",
    "    plt.xlabel(\"Time (s)\", fontsize=18)\n",
    "    plt.ylabel(\"Amplitude\", fontsize=16)\n",
    "               \n",
    "    #play back\n",
    "    sd.play(audio, sampling_rate)\n",
    "    sd.wait()\n",
    "    sd.stop()\n",
    "except(FileNotFoundError):\n",
    "    print(\"Please go back and run the previous two cells\")\n"
   ]
  },
  {
   "cell_type": "markdown",
   "metadata": {},
   "source": [
    "## Delete all user recordings"
   ]
  },
  {
   "cell_type": "code",
   "execution_count": 8,
   "metadata": {},
   "outputs": [
    {
     "name": "stdout",
     "output_type": "stream",
     "text": [
      "Successfully removed user data\n"
     ]
    }
   ],
   "source": [
    "try:\n",
    "    shutil.rmtree(user_audio_directory)\n",
    "    print(\"Successfully removed user data\")\n",
    "except(FileNotFoundError):\n",
    "    print(\"User data already deleted\".format(user_audio_directory)) "
   ]
  },
  {
   "cell_type": "markdown",
   "metadata": {},
   "source": [
    "# Classify user recording"
   ]
  },
  {
   "cell_type": "code",
   "execution_count": null,
   "metadata": {},
   "outputs": [],
   "source": []
  }
 ],
 "metadata": {
  "@webio": {
   "lastCommId": null,
   "lastKernelId": null
  },
  "kernelspec": {
   "display_name": "Python 3",
   "language": "python",
   "name": "python3"
  },
  "language_info": {
   "codemirror_mode": {
    "name": "ipython",
    "version": 3
   },
   "file_extension": ".py",
   "mimetype": "text/x-python",
   "name": "python",
   "nbconvert_exporter": "python",
   "pygments_lexer": "ipython3",
   "version": "3.7.7"
  }
 },
 "nbformat": 4,
 "nbformat_minor": 4
}
