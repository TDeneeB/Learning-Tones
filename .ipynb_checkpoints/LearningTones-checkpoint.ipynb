{
 "cells": [
  {
   "cell_type": "markdown",
   "metadata": {},
   "source": [
    "## Imports"
   ]
  },
  {
   "cell_type": "code",
   "execution_count": 158,
   "metadata": {},
   "outputs": [
    {
     "name": "stdout",
     "output_type": "stream",
     "text": [
      "Requirement already satisfied: sounddevice in /opt/anaconda3/lib/python3.7/site-packages (0.3.15)\n",
      "Requirement already satisfied: CFFI>=1.0 in /opt/anaconda3/lib/python3.7/site-packages (from sounddevice) (1.14.0)\n",
      "Requirement already satisfied: pycparser in /opt/anaconda3/lib/python3.7/site-packages (from CFFI>=1.0->sounddevice) (2.20)\n",
      "Requirement already satisfied: librosa in /opt/anaconda3/lib/python3.7/site-packages (0.7.2)\n",
      "Requirement already satisfied: soundfile>=0.9.0 in /opt/anaconda3/lib/python3.7/site-packages (from librosa) (0.10.3.post1)\n",
      "Requirement already satisfied: joblib>=0.12 in /opt/anaconda3/lib/python3.7/site-packages (from librosa) (0.14.1)\n",
      "Requirement already satisfied: numba>=0.43.0 in /opt/anaconda3/lib/python3.7/site-packages (from librosa) (0.49.0)\n",
      "Requirement already satisfied: resampy>=0.2.2 in /opt/anaconda3/lib/python3.7/site-packages (from librosa) (0.2.2)\n",
      "Requirement already satisfied: audioread>=2.0.0 in /opt/anaconda3/lib/python3.7/site-packages (from librosa) (2.1.8)\n",
      "Requirement already satisfied: scipy>=1.0.0 in /opt/anaconda3/lib/python3.7/site-packages (from librosa) (1.4.1)\n",
      "Requirement already satisfied: numpy>=1.15.0 in /opt/anaconda3/lib/python3.7/site-packages (from librosa) (1.18.1)\n",
      "Requirement already satisfied: decorator>=3.0.0 in /opt/anaconda3/lib/python3.7/site-packages (from librosa) (4.4.2)\n",
      "Requirement already satisfied: scikit-learn!=0.19.0,>=0.14.0 in /opt/anaconda3/lib/python3.7/site-packages (from librosa) (0.22.2.post1)\n",
      "Requirement already satisfied: six>=1.3 in /opt/anaconda3/lib/python3.7/site-packages (from librosa) (1.14.0)\n",
      "Requirement already satisfied: cffi>=1.0 in /opt/anaconda3/lib/python3.7/site-packages (from soundfile>=0.9.0->librosa) (1.14.0)\n",
      "Requirement already satisfied: llvmlite<=0.33.0.dev0,>=0.31.0.dev0 in /opt/anaconda3/lib/python3.7/site-packages (from numba>=0.43.0->librosa) (0.32.0)\n",
      "Requirement already satisfied: setuptools in /opt/anaconda3/lib/python3.7/site-packages (from numba>=0.43.0->librosa) (46.1.3.post20200330)\n",
      "Requirement already satisfied: pycparser in /opt/anaconda3/lib/python3.7/site-packages (from cffi>=1.0->soundfile>=0.9.0->librosa) (2.20)\n",
      "Requirement already satisfied: tensorflow in /opt/anaconda3/lib/python3.7/site-packages (2.2.0)\n",
      "Requirement already satisfied: termcolor>=1.1.0 in /opt/anaconda3/lib/python3.7/site-packages (from tensorflow) (1.1.0)\n",
      "Requirement already satisfied: wrapt>=1.11.1 in /opt/anaconda3/lib/python3.7/site-packages (from tensorflow) (1.12.1)\n",
      "Requirement already satisfied: grpcio>=1.8.6 in /opt/anaconda3/lib/python3.7/site-packages (from tensorflow) (1.29.0)\n",
      "Requirement already satisfied: scipy==1.4.1; python_version >= \"3\" in /opt/anaconda3/lib/python3.7/site-packages (from tensorflow) (1.4.1)\n",
      "Requirement already satisfied: protobuf>=3.8.0 in /opt/anaconda3/lib/python3.7/site-packages (from tensorflow) (3.11.3)\n",
      "Requirement already satisfied: absl-py>=0.7.0 in /opt/anaconda3/lib/python3.7/site-packages (from tensorflow) (0.9.0)\n",
      "Requirement already satisfied: google-pasta>=0.1.8 in /opt/anaconda3/lib/python3.7/site-packages (from tensorflow) (0.2.0)\n",
      "Requirement already satisfied: tensorboard<2.3.0,>=2.2.0 in /opt/anaconda3/lib/python3.7/site-packages (from tensorflow) (2.2.1)\n",
      "Requirement already satisfied: wheel>=0.26; python_version >= \"3\" in /opt/anaconda3/lib/python3.7/site-packages (from tensorflow) (0.34.2)\n",
      "Requirement already satisfied: h5py<2.11.0,>=2.10.0 in /opt/anaconda3/lib/python3.7/site-packages (from tensorflow) (2.10.0)\n",
      "Requirement already satisfied: opt-einsum>=2.3.2 in /opt/anaconda3/lib/python3.7/site-packages (from tensorflow) (3.2.1)\n",
      "Requirement already satisfied: keras-preprocessing>=1.1.0 in /opt/anaconda3/lib/python3.7/site-packages (from tensorflow) (1.1.2)\n",
      "Requirement already satisfied: tensorflow-estimator<2.3.0,>=2.2.0 in /opt/anaconda3/lib/python3.7/site-packages (from tensorflow) (2.2.0)\n",
      "Requirement already satisfied: six>=1.12.0 in /opt/anaconda3/lib/python3.7/site-packages (from tensorflow) (1.14.0)\n",
      "Requirement already satisfied: gast==0.3.3 in /opt/anaconda3/lib/python3.7/site-packages (from tensorflow) (0.3.3)\n",
      "Requirement already satisfied: numpy<2.0,>=1.16.0 in /opt/anaconda3/lib/python3.7/site-packages (from tensorflow) (1.18.1)\n",
      "Requirement already satisfied: astunparse==1.6.3 in /opt/anaconda3/lib/python3.7/site-packages (from tensorflow) (1.6.3)\n",
      "Requirement already satisfied: setuptools in /opt/anaconda3/lib/python3.7/site-packages (from protobuf>=3.8.0->tensorflow) (46.1.3.post20200330)\n",
      "Requirement already satisfied: tensorboard-plugin-wit>=1.6.0 in /opt/anaconda3/lib/python3.7/site-packages (from tensorboard<2.3.0,>=2.2.0->tensorflow) (1.6.0.post3)\n",
      "Requirement already satisfied: google-auth-oauthlib<0.5,>=0.4.1 in /opt/anaconda3/lib/python3.7/site-packages (from tensorboard<2.3.0,>=2.2.0->tensorflow) (0.4.1)\n",
      "Requirement already satisfied: markdown>=2.6.8 in /opt/anaconda3/lib/python3.7/site-packages (from tensorboard<2.3.0,>=2.2.0->tensorflow) (3.2.2)\n",
      "Requirement already satisfied: requests<3,>=2.21.0 in /opt/anaconda3/lib/python3.7/site-packages (from tensorboard<2.3.0,>=2.2.0->tensorflow) (2.23.0)\n",
      "Requirement already satisfied: google-auth<2,>=1.6.3 in /opt/anaconda3/lib/python3.7/site-packages (from tensorboard<2.3.0,>=2.2.0->tensorflow) (1.14.3)\n",
      "Requirement already satisfied: werkzeug>=0.11.15 in /opt/anaconda3/lib/python3.7/site-packages (from tensorboard<2.3.0,>=2.2.0->tensorflow) (1.0.1)\n",
      "Requirement already satisfied: requests-oauthlib>=0.7.0 in /opt/anaconda3/lib/python3.7/site-packages (from google-auth-oauthlib<0.5,>=0.4.1->tensorboard<2.3.0,>=2.2.0->tensorflow) (1.3.0)\n",
      "Requirement already satisfied: importlib-metadata; python_version < \"3.8\" in /opt/anaconda3/lib/python3.7/site-packages (from markdown>=2.6.8->tensorboard<2.3.0,>=2.2.0->tensorflow) (1.5.0)\n",
      "Requirement already satisfied: idna<3,>=2.5 in /opt/anaconda3/lib/python3.7/site-packages (from requests<3,>=2.21.0->tensorboard<2.3.0,>=2.2.0->tensorflow) (2.9)\n",
      "Requirement already satisfied: certifi>=2017.4.17 in /opt/anaconda3/lib/python3.7/site-packages (from requests<3,>=2.21.0->tensorboard<2.3.0,>=2.2.0->tensorflow) (2020.4.5.1)\n",
      "Requirement already satisfied: chardet<4,>=3.0.2 in /opt/anaconda3/lib/python3.7/site-packages (from requests<3,>=2.21.0->tensorboard<2.3.0,>=2.2.0->tensorflow) (3.0.4)\n",
      "Requirement already satisfied: urllib3!=1.25.0,!=1.25.1,<1.26,>=1.21.1 in /opt/anaconda3/lib/python3.7/site-packages (from requests<3,>=2.21.0->tensorboard<2.3.0,>=2.2.0->tensorflow) (1.25.8)\n",
      "Requirement already satisfied: pyasn1-modules>=0.2.1 in /opt/anaconda3/lib/python3.7/site-packages (from google-auth<2,>=1.6.3->tensorboard<2.3.0,>=2.2.0->tensorflow) (0.2.8)\n",
      "Requirement already satisfied: cachetools<5.0,>=2.0.0 in /opt/anaconda3/lib/python3.7/site-packages (from google-auth<2,>=1.6.3->tensorboard<2.3.0,>=2.2.0->tensorflow) (4.1.0)\n",
      "Requirement already satisfied: rsa<4.1,>=3.1.4 in /opt/anaconda3/lib/python3.7/site-packages (from google-auth<2,>=1.6.3->tensorboard<2.3.0,>=2.2.0->tensorflow) (4.0)\n",
      "Requirement already satisfied: oauthlib>=3.0.0 in /opt/anaconda3/lib/python3.7/site-packages (from requests-oauthlib>=0.7.0->google-auth-oauthlib<0.5,>=0.4.1->tensorboard<2.3.0,>=2.2.0->tensorflow) (3.1.0)\n",
      "Requirement already satisfied: zipp>=0.5 in /opt/anaconda3/lib/python3.7/site-packages (from importlib-metadata; python_version < \"3.8\"->markdown>=2.6.8->tensorboard<2.3.0,>=2.2.0->tensorflow) (2.2.0)\n",
      "Requirement already satisfied: pyasn1<0.5.0,>=0.4.6 in /opt/anaconda3/lib/python3.7/site-packages (from pyasn1-modules>=0.2.1->google-auth<2,>=1.6.3->tensorboard<2.3.0,>=2.2.0->tensorflow) (0.4.8)\n",
      "Requirement already satisfied: keras in /opt/anaconda3/lib/python3.7/site-packages (2.3.1)\n",
      "Requirement already satisfied: keras-applications>=1.0.6 in /opt/anaconda3/lib/python3.7/site-packages (from keras) (1.0.8)\n",
      "Requirement already satisfied: h5py in /opt/anaconda3/lib/python3.7/site-packages (from keras) (2.10.0)\n",
      "Requirement already satisfied: numpy>=1.9.1 in /opt/anaconda3/lib/python3.7/site-packages (from keras) (1.18.1)\n",
      "Requirement already satisfied: six>=1.9.0 in /opt/anaconda3/lib/python3.7/site-packages (from keras) (1.14.0)\n",
      "Requirement already satisfied: keras-preprocessing>=1.0.5 in /opt/anaconda3/lib/python3.7/site-packages (from keras) (1.1.2)\n",
      "Requirement already satisfied: scipy>=0.14 in /opt/anaconda3/lib/python3.7/site-packages (from keras) (1.4.1)\n"
     ]
    },
    {
     "name": "stdout",
     "output_type": "stream",
     "text": [
      "Requirement already satisfied: pyyaml in /opt/anaconda3/lib/python3.7/site-packages (from keras) (5.3.1)\r\n"
     ]
    }
   ],
   "source": [
    "# all the necessary imports to run the file\n",
    "# https://jakevdp.github.io/blog/2017/12/05/installing-python-packages-from-jupyter/\n",
    "import sys\n",
    "\n",
    "# installing packages that may not be installed on user's computer\n",
    "!{sys.executable} -m pip install sounddevice\n",
    "!{sys.executable} -m pip install librosa\n",
    "!{sys.executable} -m pip install tensorflow\n",
    "!{sys.executable} -m pip install keras\n",
    "\n",
    "import os\n",
    "import sounddevice as sd\n",
    "from scipy.io.wavfile import write\n",
    "import librosa\n",
    "from pathlib import Path\n",
    "import tensorflow as tf\n",
    "from tensorflow import keras\n",
    "from sklearn.model_selection import train_test_split\n",
    "from keras.preprocessing.sequence import pad_sequences\n",
    "from keras.utils import to_categorical\n",
    "import random\n",
    "import time\n",
    "import shutil\n",
    "import numpy as np\n",
    "import matplotlib.pyplot as plt\n",
    "import librosa.display\n",
    "from itertools import combinations \n",
    "import warnings\n",
    "from keras.models import Sequential \n",
    "from keras.layers import LSTM, Dense, TimeDistributed, Activation\n",
    "from keras.callbacks import ModelCheckpoint\n",
    "warnings.filterwarnings('ignore') #don't display warnings about librosa falling back onto another package\n"
   ]
  },
  {
   "cell_type": "markdown",
   "metadata": {},
   "source": [
    "## Initial Data Processing"
   ]
  },
  {
   "cell_type": "markdown",
   "metadata": {},
   "source": [
    "<pr> The section does NOT need to be run when using the program. It was used to initially load in all the audio files, take 20 mfccs, transform the data, and save the data as numpy arrays for future use. <pr>"
   ]
  },
  {
   "cell_type": "code",
   "execution_count": 159,
   "metadata": {},
   "outputs": [],
   "source": [
    "X = list()\n",
    "y = list()\n",
    "max_padding = 0\n",
    "\n",
    "data = Path('.gitignore/tone_perfect_mp3').iterdir()\n",
    "\n",
    "for item in data:\n",
    "    if item.is_file():\n",
    "        filename = item.name.split(\"_\") #\"{}{}_{}V{}_MP3.mp3\".format(mword, tone, gender, personID)\n",
    "        y.append(int(filename[0][-1]) - 1) #note: labeled 1 --> 4, and now 0 --> 3\n",
    "        \n",
    "        #transform all of the data to mfccs (Mel Frequency Cepstral Coefficients)\n",
    "        #https://medium.com/prathena/the-dummys-guide-to-mfcc-aceab2450fd\n",
    "        audio, sampling_rate = librosa.load(item)\n",
    "        mfcc = librosa.feature.mfcc(y=audio, sr=sampling_rate, n_mfcc=20) \n",
    "        X.append(mfcc)\n",
    "        total_audio_time = len(mfcc[0])\n",
    "        if total_audio_time > max_padding: max_padding = total_audio_time\n",
    "\n",
    "#padding each audio file's mcffs with zero so all audio files are considered the same duration \n",
    "for i in range(len(X)):\n",
    "    X[i] = pad_sequences(X[i], padding='post', maxlen = max_padding)\n",
    "\n",
    "#transforming from (file, coefficients, time) to (file, time, coefficients)\n",
    "X = np.asarray(X, dtype=np.float32)\n",
    "X = np.transpose(X, (0, 2, 1))"
   ]
  },
  {
   "cell_type": "code",
   "execution_count": 160,
   "metadata": {},
   "outputs": [],
   "source": [
    "#save the numpy arrays to significatly cut down on run time \n",
    "np.save('mcffs.npy', X)\n",
    "np.save('labels.npy', y) "
   ]
  },
  {
   "cell_type": "markdown",
   "metadata": {},
   "source": [
    "# The Model"
   ]
  },
  {
   "cell_type": "markdown",
   "metadata": {},
   "source": [
    "## Loading in Data"
   ]
  },
  {
   "cell_type": "code",
   "execution_count": 161,
   "metadata": {},
   "outputs": [],
   "source": [
    "X = np.load('mcffs.npy')\n",
    "y = np.load('labels.npy')\n",
    "\n",
    "# Split data into 60% training, 10% testing, and 10% validation\n",
    "X_train, X_test, y_train, y_test = train_test_split(X, y, test_size = .2, random_state=42)\n",
    "X_train, X_validation, y_train, y_validation = train_test_split(X_train, y_train, test_size = .25)"
   ]
  },
  {
   "cell_type": "markdown",
   "metadata": {},
   "source": [
    "## Data Visualization"
   ]
  },
  {
   "cell_type": "code",
   "execution_count": 162,
   "metadata": {},
   "outputs": [
    {
     "data": {
      "image/png": "[encoded data removed]",
      "text/plain": [
       "<Figure size 432x288 with 2 Axes>"
      ]
     },
     "metadata": {
      "needs_background": "light"
     },
     "output_type": "display_data"
    },
    {
     "data": {
      "image/png": "[encoded data removed]",
      "text/plain": [
       "<Figure size 432x288 with 2 Axes>"
      ]
     },
     "metadata": {
      "needs_background": "light"
     },
     "output_type": "display_data"
    },
    {
     "data": {
      "image/png": "[encoded data removed]",
      "text/plain": [
       "<Figure size 432x288 with 2 Axes>"
      ]
     },
     "metadata": {
      "needs_background": "light"
     },
     "output_type": "display_data"
    },
    {
     "data": {
      "image/png": "[encoded data removed]",
      "text/plain": [
       "<Figure size 432x288 with 2 Axes>"
      ]
     },
     "metadata": {
      "needs_background": "light"
     },
     "output_type": "display_data"
    }
   ],
   "source": [
    "tones = np.unique(y)\n",
    "\n",
    "for tone in tones:\n",
    "    X_tone = X[np.where(y == tone)]\n",
    "    librosa.display.specshow(np.mean(X_tone, axis=0), x_axis='time')\n",
    "    plt.colorbar()\n",
    "    plt.title('Spectogram of average MFCC for tone {}'.format(tone))\n",
    "    plt.tight_layout()\n",
    "    plt.show()\n",
    "\n",
    "# show in a grid plot\n",
    "# tone_combinations = combinations(tones, 2) \n",
    "# for tone1, tone2 in list(tone_combinations): "
   ]
  },
  {
   "cell_type": "code",
   "execution_count": 163,
   "metadata": {},
   "outputs": [],
   "source": [
    "# Websites I referred:  \n",
    "# https://towardsdatascience.com/recurrent-neural-networks-by-example-in-python-ffd204f99470\n",
    "# https://adventuresinmachinelearning.com/keras-lstm-tutorial/\n",
    "\n",
    "class BatchGenerator(object):\n",
    "\n",
    "    def __init__(self, data, labels, timesteps, batch_size, num_tones):\n",
    "        self.data = data\n",
    "        self.labels = to_categorical(labels, num_classes = num_tones)\n",
    "        self.timesteps = timesteps\n",
    "        self.batch_size = batch_size\n",
    "        self.num_tones = num_tones\n",
    "\n",
    "    def generate_batch(self):\n",
    "        # shuffle all the indices so that every epoch's batch sampling is different\n",
    "        randomized_indices = np.array([*range(0,len(self.data))])\n",
    "        random.shuffle(randomized_indices)\n",
    "        \n",
    "        num_inter = 0\n",
    "        while True:\n",
    "            \n",
    "            start_index = num_inter * self.batch_size\n",
    "            batch_indices = randomized_indices[start_index: self.batch_size + start_index]\n",
    "            data_batch = self.data[batch_indices]\n",
    "            labels_batch = self.labels[batch_indices]\n",
    "            \n",
    "            yield data_batch, labels_batch\n",
    "            \n",
    "            num_inter += 1\n",
    "            if len(self.data) <= (num_inter * self.batch_size):\n",
    "                num_inter = 0\n",
    "                random.shuffle(randomized_indices)"
   ]
  },
  {
   "cell_type": "code",
   "execution_count": 169,
   "metadata": {},
   "outputs": [
    {
     "name": "stdout",
     "output_type": "stream",
     "text": [
      "Epoch 1/50\n",
      "4/4 [==============================] - 1s 358ms/step - loss: 1.3202 - categorical_accuracy: 0.2917 - val_loss: 1.2070 - val_categorical_accuracy: 0.5000\n",
      "\n",
      "Epoch 00001: saving model to model_checkpoints/model-01.hdf5\n",
      "Epoch 2/50\n",
      "4/4 [==============================] - 1s 247ms/step - loss: 1.1903 - categorical_accuracy: 0.5312 - val_loss: 1.1327 - val_categorical_accuracy: 0.4167\n",
      "\n",
      "Epoch 00002: saving model to model_checkpoints/model-02.hdf5\n",
      "Epoch 3/50\n",
      "4/4 [==============================] - 1s 266ms/step - loss: 1.0380 - categorical_accuracy: 0.5417 - val_loss: 0.8794 - val_categorical_accuracy: 0.7500\n",
      "\n",
      "Epoch 00003: saving model to model_checkpoints/model-03.hdf5\n",
      "Epoch 4/50\n",
      "4/4 [==============================] - 1s 297ms/step - loss: 1.1330 - categorical_accuracy: 0.5312 - val_loss: 0.9448 - val_categorical_accuracy: 0.4583\n",
      "\n",
      "Epoch 00004: saving model to model_checkpoints/model-04.hdf5\n",
      "Epoch 5/50\n",
      "4/4 [==============================] - 1s 244ms/step - loss: 1.1643 - categorical_accuracy: 0.5104 - val_loss: 1.1684 - val_categorical_accuracy: 0.3333\n",
      "\n",
      "Epoch 00005: saving model to model_checkpoints/model-05.hdf5\n",
      "Epoch 6/50\n",
      "4/4 [==============================] - 1s 215ms/step - loss: 1.0099 - categorical_accuracy: 0.6042 - val_loss: 1.1701 - val_categorical_accuracy: 0.5000\n",
      "\n",
      "Epoch 00006: saving model to model_checkpoints/model-06.hdf5\n",
      "Epoch 7/50\n",
      "4/4 [==============================] - 1s 215ms/step - loss: 0.9753 - categorical_accuracy: 0.5521 - val_loss: 0.7919 - val_categorical_accuracy: 0.6667\n",
      "\n",
      "Epoch 00007: saving model to model_checkpoints/model-07.hdf5\n",
      "Epoch 8/50\n",
      "4/4 [==============================] - 1s 215ms/step - loss: 0.9035 - categorical_accuracy: 0.6667 - val_loss: 0.8871 - val_categorical_accuracy: 0.5417\n",
      "\n",
      "Epoch 00008: saving model to model_checkpoints/model-08.hdf5\n",
      "Epoch 9/50\n",
      "4/4 [==============================] - 1s 214ms/step - loss: 0.8403 - categorical_accuracy: 0.6250 - val_loss: 0.9645 - val_categorical_accuracy: 0.5833\n",
      "\n",
      "Epoch 00009: saving model to model_checkpoints/model-09.hdf5\n",
      "Epoch 10/50\n",
      "4/4 [==============================] - 1s 218ms/step - loss: 0.7582 - categorical_accuracy: 0.7083 - val_loss: 0.6820 - val_categorical_accuracy: 0.6667\n",
      "\n",
      "Epoch 00010: saving model to model_checkpoints/model-10.hdf5\n",
      "Epoch 11/50\n",
      "4/4 [==============================] - 1s 216ms/step - loss: 0.8598 - categorical_accuracy: 0.6354 - val_loss: 1.0081 - val_categorical_accuracy: 0.6250\n",
      "\n",
      "Epoch 00011: saving model to model_checkpoints/model-11.hdf5\n",
      "Epoch 12/50\n",
      "4/4 [==============================] - 1s 215ms/step - loss: 0.8057 - categorical_accuracy: 0.6979 - val_loss: 0.6273 - val_categorical_accuracy: 0.7917\n",
      "\n",
      "Epoch 00012: saving model to model_checkpoints/model-12.hdf5\n",
      "Epoch 13/50\n",
      "4/4 [==============================] - 1s 215ms/step - loss: 0.8319 - categorical_accuracy: 0.6562 - val_loss: 0.9222 - val_categorical_accuracy: 0.6250\n",
      "\n",
      "Epoch 00013: saving model to model_checkpoints/model-13.hdf5\n",
      "Epoch 14/50\n",
      "4/4 [==============================] - 1s 216ms/step - loss: 0.7096 - categorical_accuracy: 0.6979 - val_loss: 0.9901 - val_categorical_accuracy: 0.7083\n",
      "\n",
      "Epoch 00014: saving model to model_checkpoints/model-14.hdf5\n",
      "Epoch 15/50\n",
      "4/4 [==============================] - 1s 219ms/step - loss: 0.6958 - categorical_accuracy: 0.7292 - val_loss: 0.5245 - val_categorical_accuracy: 0.7500\n",
      "\n",
      "Epoch 00015: saving model to model_checkpoints/model-15.hdf5\n",
      "Epoch 16/50\n",
      "4/4 [==============================] - 1s 219ms/step - loss: 0.7270 - categorical_accuracy: 0.7188 - val_loss: 0.7429 - val_categorical_accuracy: 0.7917\n",
      "\n",
      "Epoch 00016: saving model to model_checkpoints/model-16.hdf5\n",
      "Epoch 17/50\n",
      "4/4 [==============================] - 1s 215ms/step - loss: 0.6079 - categorical_accuracy: 0.8125 - val_loss: 1.0016 - val_categorical_accuracy: 0.5833\n",
      "\n",
      "Epoch 00017: saving model to model_checkpoints/model-17.hdf5\n",
      "Epoch 18/50\n",
      "4/4 [==============================] - 1s 215ms/step - loss: 0.7584 - categorical_accuracy: 0.6771 - val_loss: 0.7483 - val_categorical_accuracy: 0.5833\n",
      "\n",
      "Epoch 00018: saving model to model_checkpoints/model-18.hdf5\n",
      "Epoch 19/50\n",
      "4/4 [==============================] - 1s 214ms/step - loss: 0.6316 - categorical_accuracy: 0.7188 - val_loss: 0.8588 - val_categorical_accuracy: 0.5833\n",
      "\n",
      "Epoch 00019: saving model to model_checkpoints/model-19.hdf5\n",
      "Epoch 20/50\n",
      "4/4 [==============================] - 1s 215ms/step - loss: 0.7744 - categorical_accuracy: 0.7396 - val_loss: 0.6253 - val_categorical_accuracy: 0.7083\n",
      "\n",
      "Epoch 00020: saving model to model_checkpoints/model-20.hdf5\n",
      "Epoch 21/50\n",
      "4/4 [==============================] - 1s 213ms/step - loss: 0.7447 - categorical_accuracy: 0.6875 - val_loss: 0.8160 - val_categorical_accuracy: 0.7083\n",
      "\n",
      "Epoch 00021: saving model to model_checkpoints/model-21.hdf5\n",
      "Epoch 22/50\n",
      "4/4 [==============================] - 1s 216ms/step - loss: 0.7897 - categorical_accuracy: 0.7396 - val_loss: 0.4554 - val_categorical_accuracy: 0.8333\n",
      "\n",
      "Epoch 00022: saving model to model_checkpoints/model-22.hdf5\n",
      "Epoch 23/50\n",
      "4/4 [==============================] - 1s 208ms/step - loss: 0.6140 - categorical_accuracy: 0.7604 - val_loss: 0.6912 - val_categorical_accuracy: 0.7500\n",
      "\n",
      "Epoch 00023: saving model to model_checkpoints/model-23.hdf5\n",
      "Epoch 24/50\n",
      "4/4 [==============================] - 1s 204ms/step - loss: 0.6499 - categorical_accuracy: 0.7188 - val_loss: 0.6339 - val_categorical_accuracy: 0.7917\n",
      "\n",
      "Epoch 00024: saving model to model_checkpoints/model-24.hdf5\n",
      "Epoch 25/50\n",
      "4/4 [==============================] - 1s 204ms/step - loss: 0.7344 - categorical_accuracy: 0.6458 - val_loss: 0.5831 - val_categorical_accuracy: 0.7500\n",
      "\n",
      "Epoch 00025: saving model to model_checkpoints/model-25.hdf5\n",
      "Epoch 26/50\n",
      "4/4 [==============================] - 1s 209ms/step - loss: 0.4908 - categorical_accuracy: 0.8333 - val_loss: 0.5221 - val_categorical_accuracy: 0.7917\n",
      "\n",
      "Epoch 00026: saving model to model_checkpoints/model-26.hdf5\n",
      "Epoch 27/50\n",
      "4/4 [==============================] - 1s 208ms/step - loss: 0.5826 - categorical_accuracy: 0.7292 - val_loss: 0.4098 - val_categorical_accuracy: 0.7500\n",
      "\n",
      "Epoch 00027: saving model to model_checkpoints/model-27.hdf5\n",
      "Epoch 28/50\n",
      "4/4 [==============================] - 1s 194ms/step - loss: 0.5059 - categorical_accuracy: 0.7500 - val_loss: 0.3492 - val_categorical_accuracy: 0.8750\n",
      "\n",
      "Epoch 00028: saving model to model_checkpoints/model-28.hdf5\n",
      "Epoch 29/50\n",
      "4/4 [==============================] - 1s 186ms/step - loss: 0.5428 - categorical_accuracy: 0.8021 - val_loss: 0.7549 - val_categorical_accuracy: 0.7917\n",
      "\n",
      "Epoch 00029: saving model to model_checkpoints/model-29.hdf5\n",
      "Epoch 30/50\n",
      "4/4 [==============================] - 1s 220ms/step - loss: 0.5324 - categorical_accuracy: 0.7917 - val_loss: 0.8809 - val_categorical_accuracy: 0.6667\n",
      "\n",
      "Epoch 00030: saving model to model_checkpoints/model-30.hdf5\n",
      "Epoch 31/50\n",
      "4/4 [==============================] - 1s 214ms/step - loss: 0.6654 - categorical_accuracy: 0.7188 - val_loss: 0.5520 - val_categorical_accuracy: 0.7917\n",
      "\n",
      "Epoch 00031: saving model to model_checkpoints/model-31.hdf5\n",
      "Epoch 32/50\n",
      "4/4 [==============================] - 1s 212ms/step - loss: 0.5282 - categorical_accuracy: 0.8021 - val_loss: 0.7000 - val_categorical_accuracy: 0.6667\n",
      "\n",
      "Epoch 00032: saving model to model_checkpoints/model-32.hdf5\n",
      "Epoch 33/50\n",
      "4/4 [==============================] - 1s 216ms/step - loss: 0.6504 - categorical_accuracy: 0.7604 - val_loss: 0.5153 - val_categorical_accuracy: 0.7917\n",
      "\n",
      "Epoch 00033: saving model to model_checkpoints/model-33.hdf5\n",
      "Epoch 34/50\n",
      "4/4 [==============================] - 1s 212ms/step - loss: 0.4715 - categorical_accuracy: 0.7917 - val_loss: 0.5112 - val_categorical_accuracy: 0.7917\n",
      "\n",
      "Epoch 00034: saving model to model_checkpoints/model-34.hdf5\n",
      "Epoch 35/50\n",
      "4/4 [==============================] - 1s 214ms/step - loss: 0.4695 - categorical_accuracy: 0.8125 - val_loss: 0.5139 - val_categorical_accuracy: 0.8333\n",
      "\n",
      "Epoch 00035: saving model to model_checkpoints/model-35.hdf5\n",
      "Epoch 36/50\n",
      "4/4 [==============================] - 1s 215ms/step - loss: 0.6829 - categorical_accuracy: 0.7500 - val_loss: 0.4573 - val_categorical_accuracy: 0.7500\n",
      "\n",
      "Epoch 00036: saving model to model_checkpoints/model-36.hdf5\n",
      "Epoch 37/50\n"
     ]
    },
    {
     "name": "stdout",
     "output_type": "stream",
     "text": [
      "4/4 [==============================] - 1s 205ms/step - loss: 0.7083 - categorical_accuracy: 0.7292 - val_loss: 0.6702 - val_categorical_accuracy: 0.8333\n",
      "\n",
      "Epoch 00037: saving model to model_checkpoints/model-37.hdf5\n",
      "Epoch 38/50\n",
      "4/4 [==============================] - 1s 200ms/step - loss: 0.6141 - categorical_accuracy: 0.7292 - val_loss: 0.2957 - val_categorical_accuracy: 0.8750\n",
      "\n",
      "Epoch 00038: saving model to model_checkpoints/model-38.hdf5\n",
      "Epoch 39/50\n",
      "4/4 [==============================] - 1s 203ms/step - loss: 0.4805 - categorical_accuracy: 0.8125 - val_loss: 0.6505 - val_categorical_accuracy: 0.7083\n",
      "\n",
      "Epoch 00039: saving model to model_checkpoints/model-39.hdf5\n",
      "Epoch 40/50\n",
      "4/4 [==============================] - 1s 210ms/step - loss: 0.5636 - categorical_accuracy: 0.8333 - val_loss: 0.4915 - val_categorical_accuracy: 0.7500\n",
      "\n",
      "Epoch 00040: saving model to model_checkpoints/model-40.hdf5\n",
      "Epoch 41/50\n",
      "4/4 [==============================] - 1s 208ms/step - loss: 0.4969 - categorical_accuracy: 0.7708 - val_loss: 0.5361 - val_categorical_accuracy: 0.7500\n",
      "\n",
      "Epoch 00041: saving model to model_checkpoints/model-41.hdf5\n",
      "Epoch 42/50\n",
      "4/4 [==============================] - 1s 207ms/step - loss: 0.4767 - categorical_accuracy: 0.8021 - val_loss: 0.6578 - val_categorical_accuracy: 0.7917\n",
      "\n",
      "Epoch 00042: saving model to model_checkpoints/model-42.hdf5\n",
      "Epoch 43/50\n",
      "4/4 [==============================] - 1s 202ms/step - loss: 0.5691 - categorical_accuracy: 0.7604 - val_loss: 0.4834 - val_categorical_accuracy: 0.8333\n",
      "\n",
      "Epoch 00043: saving model to model_checkpoints/model-43.hdf5\n",
      "Epoch 44/50\n",
      "4/4 [==============================] - 1s 202ms/step - loss: 0.6512 - categorical_accuracy: 0.8125 - val_loss: 0.4979 - val_categorical_accuracy: 0.8750\n",
      "\n",
      "Epoch 00044: saving model to model_checkpoints/model-44.hdf5\n",
      "Epoch 45/50\n",
      "4/4 [==============================] - 1s 204ms/step - loss: 0.5019 - categorical_accuracy: 0.7812 - val_loss: 0.6700 - val_categorical_accuracy: 0.7500\n",
      "\n",
      "Epoch 00045: saving model to model_checkpoints/model-45.hdf5\n",
      "Epoch 46/50\n",
      "4/4 [==============================] - 1s 205ms/step - loss: 0.5731 - categorical_accuracy: 0.8021 - val_loss: 0.2703 - val_categorical_accuracy: 0.9167\n",
      "\n",
      "Epoch 00046: saving model to model_checkpoints/model-46.hdf5\n",
      "Epoch 47/50\n",
      "4/4 [==============================] - 1s 201ms/step - loss: 0.4645 - categorical_accuracy: 0.8125 - val_loss: 0.4247 - val_categorical_accuracy: 0.7917\n",
      "\n",
      "Epoch 00047: saving model to model_checkpoints/model-47.hdf5\n",
      "Epoch 48/50\n",
      "4/4 [==============================] - 1s 185ms/step - loss: 0.4167 - categorical_accuracy: 0.8333 - val_loss: 0.2506 - val_categorical_accuracy: 0.9583\n",
      "\n",
      "Epoch 00048: saving model to model_checkpoints/model-48.hdf5\n",
      "Epoch 49/50\n",
      "4/4 [==============================] - 1s 204ms/step - loss: 0.5303 - categorical_accuracy: 0.8125 - val_loss: 0.3801 - val_categorical_accuracy: 0.9167\n",
      "\n",
      "Epoch 00049: saving model to model_checkpoints/model-49.hdf5\n",
      "Epoch 50/50\n",
      "4/4 [==============================] - 1s 209ms/step - loss: 0.4636 - categorical_accuracy: 0.8333 - val_loss: 0.4080 - val_categorical_accuracy: 0.9167\n",
      "\n",
      "Epoch 00050: saving model to model_checkpoints/model-50.hdf5\n"
     ]
    },
    {
     "data": {
      "text/plain": [
       "<keras.callbacks.callbacks.History at 0x1a550c3fd0>"
      ]
     },
     "execution_count": 169,
     "metadata": {},
     "output_type": "execute_result"
    }
   ],
   "source": [
    "batch_size = 24 \n",
    "timesteps = len(X_train[0])\n",
    "hidden_size = 500\n",
    "num_epochs = 50\n",
    "num_tones = 4\n",
    "num_mcffs = 20\n",
    "\n",
    "X_train_generator = BatchGenerator(X_train, y_train, timesteps, batch_size, num_tones)                                       \n",
    "X_validation_generator = BatchGenerator(X_validation, y_validation, timesteps, batch_size, num_tones)\n",
    "\n",
    "model = Sequential()\n",
    "model.add(LSTM(hidden_size, batch_input_shape=(None, timesteps, num_mcffs)))\n",
    "# model.add(Dropout(0.5))\n",
    "model.add(Dense(num_tones))\n",
    "model.add(Activation('softmax'))\n",
    "\n",
    "model.compile(loss='categorical_crossentropy', optimizer='adam', metrics=['categorical_accuracy'])\n",
    "\n",
    "checkpointer = ModelCheckpoint(filepath='model_checkpoints/model-{epoch:02d}.hdf5', verbose=1)\n",
    "model.fit_generator(X_train_generator.generate_batch(), \n",
    "                    len(X_train)//(batch_size*timesteps), \n",
    "                    num_epochs, \n",
    "                    validation_data = X_validation_generator.generate_batch(), \n",
    "                    validation_steps = len(X_validation)//(batch_size*timesteps), \n",
    "                    callbacks=[checkpointer])\n",
    "# print(model.summary())"
   ]
  },
  {
   "cell_type": "code",
   "execution_count": 170,
   "metadata": {},
   "outputs": [
    {
     "name": "stdout",
     "output_type": "stream",
     "text": [
      "0.8155487804878049\n"
     ]
    }
   ],
   "source": [
    "# plot the training accuracy over time for the chosen hyperparameters\n",
    "# https://www.codesofinterest.com/2017/03/graph-model-training-history-keras.html\n",
    "\n",
    "prediction = model.predict(X_test)\n",
    "accuracy = np.sum(np.argmax(prediction, axis = 1) == y_test)/len(y_test)\n",
    "print(accuracy)"
   ]
  },
  {
   "cell_type": "markdown",
   "metadata": {},
   "source": [
    "## Testing Hyper-parameters"
   ]
  },
  {
   "cell_type": "code",
   "execution_count": null,
   "metadata": {},
   "outputs": [],
   "source": []
  },
  {
   "cell_type": "markdown",
   "metadata": {},
   "source": [
    "# User Interface"
   ]
  },
  {
   "cell_type": "markdown",
   "metadata": {},
   "source": [
    "## Create folder to hold user audio\n",
    "<p> Run the following cell to remove previous user audio and make the folder to hold all user input audio. <p>"
   ]
  },
  {
   "cell_type": "code",
   "execution_count": null,
   "metadata": {},
   "outputs": [],
   "source": [
    "#initializing folder to hold user audio\n",
    "user_audio_directory = (\"user_audio\")\n",
    "try:\n",
    "    shutil.rmtree(user_audio_directory)\n",
    "    os.makedirs(user_audio_directory)\n",
    "    print(\"Removed data and recreated folder\", user_audio_directory)\n",
    "except(FileNotFoundError):\n",
    "    os.makedirs(user_audio_directory)\n",
    "    print(\"Created folder {}\".format(user_audio_directory)) "
   ]
  },
  {
   "cell_type": "markdown",
   "metadata": {},
   "source": [
    "## Record user's voice"
   ]
  },
  {
   "cell_type": "markdown",
   "metadata": {},
   "source": [
    "<pr> Following cell records a user's voice. Users are encouraged to only record monosyllabic words in order to practice tonalities. An unclear recording will result in a low<pr>"
   ]
  },
  {
   "cell_type": "code",
   "execution_count": null,
   "metadata": {},
   "outputs": [],
   "source": [
    "frame_rate = 44100\n",
    "duration = 1.5 #seconds\n",
    "\n",
    "print(\"Recording in...\")\n",
    "pause = 3\n",
    "\n",
    "while pause > 0:\n",
    "    print(\"{}\".format(pause))\n",
    "    pause -= 1\n",
    "    time.sleep(1)\n",
    "print(\"RECORDING\")\n",
    "\n",
    "recording = sd.rec(int(duration * frame_rate), samplerate = frame_rate, channels = 1)\n",
    "recording_num = len(os.listdir('user_audio/')) + 1\n",
    "recording_name = 'user_audio/sample_audio_{}.mp3'.format(recording_num)\n",
    "sd.wait()\n",
    "write(recording_name, frame_rate, recording)\n",
    "\n",
    "print(\"Finished\")"
   ]
  },
  {
   "cell_type": "markdown",
   "metadata": {},
   "source": [
    "## Play back and plot the user recording \n",
    "<pr> User can play back and see a visualization of their latest recording as many times as they like. <pr>"
   ]
  },
  {
   "cell_type": "code",
   "execution_count": null,
   "metadata": {},
   "outputs": [],
   "source": [
    "try: \n",
    "    audio, sampling_rate = librosa.load(recording_name)\n",
    "    \n",
    "    #plot\n",
    "    timeline = np.arange(0, len(audio))/sampling_rate\n",
    "    fig = plt.figure()\n",
    "    plt.plot(timeline, audio)\n",
    "    plt.xlabel(\"Time (s)\", fontsize=18)\n",
    "    plt.ylabel(\"Amplitude\", fontsize=16)\n",
    "               \n",
    "    #play back\n",
    "    sd.play(audio, sampling_rate)\n",
    "    sd.wait()\n",
    "    sd.stop()\n",
    "except(FileNotFoundError):\n",
    "    print(\"Please go back and run the previous two cells\")\n"
   ]
  },
  {
   "cell_type": "markdown",
   "metadata": {},
   "source": [
    "## Delete all user recordings"
   ]
  },
  {
   "cell_type": "code",
   "execution_count": null,
   "metadata": {},
   "outputs": [],
   "source": [
    "try:\n",
    "    shutil.rmtree(user_audio_directory)\n",
    "    print(\"Successfully removed user data\")\n",
    "except(FileNotFoundError):\n",
    "    print(\"User data already deleted\".format(user_audio_directory)) "
   ]
  },
  {
   "cell_type": "markdown",
   "metadata": {},
   "source": [
    "# Classify user recording"
   ]
  },
  {
   "cell_type": "code",
   "execution_count": null,
   "metadata": {},
   "outputs": [],
   "source": [
    "#pad user recording\n",
    "#make an mcff\n",
    "#"
   ]
  }
 ],
 "metadata": {
  "@webio": {
   "lastCommId": null,
   "lastKernelId": null
  },
  "kernelspec": {
   "display_name": "Python 3",
   "language": "python",
   "name": "python3"
  },
  "language_info": {
   "codemirror_mode": {
    "name": "ipython",
    "version": 3
   },
   "file_extension": ".py",
   "mimetype": "text/x-python",
   "name": "python",
   "nbconvert_exporter": "python",
   "pygments_lexer": "ipython3",
   "version": "3.7.7"
  }
 },
 "nbformat": 4,
 "nbformat_minor": 4
}
