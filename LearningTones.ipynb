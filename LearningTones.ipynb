{
 "cells": [
  {
   "cell_type": "markdown",
   "metadata": {},
   "source": [
    "## Imports"
   ]
  },
  {
   "cell_type": "code",
   "execution_count": 64,
   "metadata": {},
   "outputs": [
    {
     "name": "stdout",
     "output_type": "stream",
     "text": [
      "/bin/sh: {sys.executable}: command not found\n",
      "/bin/sh: {sys.executable}: command not found\n"
     ]
    },
    {
     "name": "stderr",
     "output_type": "stream",
     "text": [
      "/opt/anaconda3/lib/python3.7/site-packages/ipykernel_launcher.py:2: NumbaDeprecationWarning: \u001b[1mAn import was requested from a module that has moved location.\n",
      "Import of 'jit' requested from: 'numba.decorators', please update to use 'numba.core.decorators' or pin to Numba version 0.48.0. This alias will not be present in Numba version 0.50.0.\u001b[0m\n",
      "  \n"
     ]
    },
    {
     "name": "stdout",
     "output_type": "stream",
     "text": [
      "/bin/sh: {sys.executable}: command not found\r\n"
     ]
    }
   ],
   "source": [
    "#all the necessary imports to run the file\n",
    "from numba.decorators import jit as optional_jit\n",
    "!{sys.executable} -m pip install sounddevice\n",
    "!{sys.executable} -m pip install librosa\n",
    "!{sys.executable} -m pip install numba==0.48.0\n",
    "\n",
    "import os\n",
    "import sounddevice as sd\n",
    "from scipy.io.wavfile import write\n",
    "import librosa\n",
    "import time\n",
    "import shutil\n",
    "import numpy as np\n",
    "import matplotlib.pyplot as plt"
   ]
  },
  {
   "cell_type": "code",
   "execution_count": 7,
   "metadata": {},
   "outputs": [
    {
     "name": "stderr",
     "output_type": "stream",
     "text": [
      "/opt/anaconda3/lib/python3.7/site-packages/librosa/core/audio.py:161: UserWarning: PySoundFile failed. Trying audioread instead.\n",
      "  warnings.warn('PySoundFile failed. Trying audioread instead.')\n"
     ]
    }
   ],
   "source": [
    "from pathlib import Path\n",
    "\n",
    "y = list()\n",
    "\n",
    "tone_data_path = Path('.gitignore/tone_perfect_mp3')\n",
    "files_in_tone_data_path = tone_data_path.iterdir()\n",
    "\n",
    "for item in files_in_tone_data_path:\n",
    "    if item.is_file():\n",
    "        filename = item.name.split(\"_\") #\"{}{}_{}V{}_MP3.mp3\".format(word, tone, gender, personID)\n",
    "        y.append(int(filename[0][-1])) \n",
    "        \n",
    "        #transform all of the data to mfccs (Mel Frequency Cepstral Coefficients)\n",
    "        #https://medium.com/prathena/the-dummys-guide-to-mfcc-aceab2450fd\n",
    "        audio, sampling_rate = librosa.load(item)\n",
    "        mfcc = librosa.feature.mfcc(y=audio, sr=sampling_rate) #n_mfcc=60\n",
    "        \n",
    "#         pad_width = max_pad - mfcc.shape[1]\n",
    "#         mfcc = np.pad(mfcc, pad_width=((0, 0), (0, pad_width)), mode='constant')\n",
    "        break\n",
    "    break"
   ]
  },
  {
   "cell_type": "code",
   "execution_count": 13,
   "metadata": {},
   "outputs": [],
   "source": [
    "# Possibly need to split the data into M vs F users\n",
    "# in this case, we would have to split the data into male or female and\n",
    "# train 2 different models and predict on both those models and find the \n",
    "# the closest one OR have the person\n",
    "#\n",
    "# for sex in [\"MV\", \"FV\"]:\n",
    "#     for label in range(1,5):\n",
    "#         try:\n",
    "#             directory_name = \".gitignore/{}{}\".format(sex,label)\n",
    "#             os.makedirs(directory_name)    \n",
    "#             print(\"Directory \" , directory_name ,  \" Created \")\n",
    "#         except FileExistsError:\n",
    "#             print(\"Directory \" , directory_name ,  \" already exists\") "
   ]
  },
  {
   "cell_type": "markdown",
   "metadata": {},
   "source": [
    "# User Interface"
   ]
  },
  {
   "cell_type": "markdown",
   "metadata": {},
   "source": [
    "## Create folder to hold user audio\n",
    "<p> Run the following cell to remove previous user audio and make the folder to hold all user input audio. <p>"
   ]
  },
  {
   "cell_type": "code",
   "execution_count": 70,
   "metadata": {},
   "outputs": [
    {
     "name": "stdout",
     "output_type": "stream",
     "text": [
      "Created folder user_audio\n"
     ]
    }
   ],
   "source": [
    "#initializing folder to hold user audio\n",
    "user_audio_directory = (\"user_audio\")\n",
    "try:\n",
    "    shutil.rmtree(user_audio_directory)\n",
    "    os.makedirs(user_audio_directory)\n",
    "    print(\"Removed data and recreated folder\", user_audio_directory)\n",
    "except(FileNotFoundError):\n",
    "    os.makedirs(user_audio_directory)\n",
    "    print(\"Created folder {}\".format(user_audio_directory)) "
   ]
  },
  {
   "cell_type": "markdown",
   "metadata": {},
   "source": [
    "## Record user's voice"
   ]
  },
  {
   "cell_type": "markdown",
   "metadata": {},
   "source": [
    "<pr> Following cell records a user's voice. Users are encouraged to only record monosyllabic words in order to practice tonalities. An unclear recording will result in a low<pr>"
   ]
  },
  {
   "cell_type": "code",
   "execution_count": 71,
   "metadata": {},
   "outputs": [
    {
     "name": "stdout",
     "output_type": "stream",
     "text": [
      "Recording in...\n",
      "3\n",
      "2\n",
      "1\n",
      "RECORDING\n",
      "Finished\n"
     ]
    }
   ],
   "source": [
    "frame_rate = 44100\n",
    "duration = 1.5 #seconds\n",
    "\n",
    "recording_num = len(os.listdir('user_audio/')) + 1\n",
    "recording_name = 'user_audio/sample_audio_{}.mp3'.format(recording_num)\n",
    "\n",
    "print(\"Recording in...\")\n",
    "pause = 3\n",
    "\n",
    "while pause > 0:\n",
    "    print(\"{}\".format(pause))\n",
    "    pause -= 1\n",
    "    time.sleep(1)\n",
    "print(\"RECORDING\")\n",
    "\n",
    "recording = sd.rec(int(duration * frame_rate), samplerate = frame_rate, channels = 1)\n",
    "sd.wait()\n",
    "write(recording_name, frame_rate, recording)\n",
    "\n",
    "print(\"Finished\")"
   ]
  },
  {
   "cell_type": "markdown",
   "metadata": {},
   "source": [
    "## Play back and plot the user recording \n",
    "<pr> User can play back and see a visualization of their latest recording as many times as they like. <pr>"
   ]
  },
  {
   "cell_type": "code",
   "execution_count": 76,
   "metadata": {},
   "outputs": [
    {
     "data": {
      "image/png": "[encoded data removed]",
      "text/plain": [
       "<Figure size 432x288 with 1 Axes>"
      ]
     },
     "metadata": {
      "needs_background": "light"
     },
     "output_type": "display_data"
    }
   ],
   "source": [
    "try: \n",
    "    audio, sampling_rate = librosa.load(recording_name)\n",
    "    \n",
    "    #plot\n",
    "    timeline = np.arange(0, len(audio))/sampling_rate\n",
    "    fig = plt.figure()\n",
    "    plt.plot(timeline, audio)\n",
    "    plt.xlabel(\"Time (s)\", fontsize=18)\n",
    "    plt.ylabel(\"Amplitude\", fontsize=16)\n",
    "               \n",
    "    #play back\n",
    "    sd.play(audio, sampling_rate)\n",
    "    sd.wait()\n",
    "    sd.stop()\n",
    "except(FileNotFoundError):\n",
    "    print(\"Please go back and run the previous two cells\")\n"
   ]
  },
  {
   "cell_type": "markdown",
   "metadata": {},
   "source": [
    "## Delete all user recordings"
   ]
  },
  {
   "cell_type": "code",
   "execution_count": 77,
   "metadata": {},
   "outputs": [
    {
     "name": "stdout",
     "output_type": "stream",
     "text": [
      "Successfully removed user data\n"
     ]
    }
   ],
   "source": [
    "try:\n",
    "    shutil.rmtree(user_audio_directory)\n",
    "    print(\"Successfully removed user data\")\n",
    "except(FileNotFoundError):\n",
    "    print(\"User data already deleted\".format(user_audio_directory)) "
   ]
  },
  {
   "cell_type": "markdown",
   "metadata": {},
   "source": [
    "# Classify user recording"
   ]
  },
  {
   "cell_type": "code",
   "execution_count": null,
   "metadata": {},
   "outputs": [],
   "source": []
  }
 ],
 "metadata": {
  "@webio": {
   "lastCommId": null,
   "lastKernelId": null
  },
  "kernelspec": {
   "display_name": "Python 3",
   "language": "python",
   "name": "python3"
  },
  "language_info": {
   "codemirror_mode": {
    "name": "ipython",
    "version": 3
   },
   "file_extension": ".py",
   "mimetype": "text/x-python",
   "name": "python",
   "nbconvert_exporter": "python",
   "pygments_lexer": "ipython3",
   "version": "3.7.7"
  }
 },
 "nbformat": 4,
 "nbformat_minor": 4
}
